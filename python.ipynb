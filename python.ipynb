{
  "nbformat": 4,
  "nbformat_minor": 0,
  "metadata": {
    "colab": {
      "name": "python.ipynb",
      "version": "0.3.2",
      "provenance": [],
      "collapsed_sections": [],
      "toc_visible": true,
      "include_colab_link": true
    },
    "kernelspec": {
      "name": "python2",
      "display_name": "Python 2"
    }
  },
  "cells": [
    {
      "cell_type": "markdown",
      "metadata": {
        "id": "view-in-github",
        "colab_type": "text"
      },
      "source": [
        "[View in Colaboratory](https://colab.research.google.com/github/Nattapoy/My-Report/blob/master/python.ipynb)"
      ]
    },
    {
      "metadata": {
        "id": "lryUt7qKkMiB",
        "colab_type": "text"
      },
      "cell_type": "markdown",
      "source": [
        "# การแสดงผลตัวอักษร\n",
        "เอสเคปคาแร็กเตอร์\n",
        "นอกจากแบ็กสแลชจะทำหน้าที่นำหน้าอักษรที่มีหน้าที่เฉพาะเพื่อให้ปรากฏตามที่เห็นโดยไม่ถูกตีความแล้ว\n",
        "\n",
        "มีอักษรหลายตัวที่นำหน้าด้วยแบ็กสแลช \\ แล้วมีความหมายพิเศษ ซึ่งเรียกว่า เอสเคปคาแร็กเตอร์ (escape character)\n",
        "\n",
        "\\n คือ ขึ้นบรรทัดใหม่\n",
        "\n",
        "\\t คือ เคาะเว้นย่อหน้า\n",
        "\n",
        "\\b คือ แบ็กสเปซ (ลบตัวอักษร)\n",
        "\n",
        "\\a คือ ส่งเสียงเตือน"
      ]
    },
    {
      "metadata": {
        "id": "pxrr_FnetLKQ",
        "colab_type": "code",
        "colab": {}
      },
      "cell_type": "code",
      "source": [
        "print('ma\\bc') \n",
        "print('a\\ta') "
      ],
      "execution_count": 0,
      "outputs": []
    },
    {
      "metadata": {
        "id": "ALiQIWcGxWM0",
        "colab_type": "code",
        "colab": {}
      },
      "cell_type": "code",
      "source": [
        "# print function\n",
        "print(\"Hello, I'm Python!\")"
      ],
      "execution_count": 0,
      "outputs": []
    },
    {
      "metadata": {
        "id": "RSMYF20Zx273",
        "colab_type": "code",
        "colab": {
          "base_uri": "https://localhost:8080/",
          "height": 117
        },
        "outputId": "4e502200-731f-4b36-eb09-a87b0a2c8d64"
      },
      "cell_type": "code",
      "source": [
        "# arithmatic\n",
        "print(1+3) # plus\n",
        "print(2-1) # minus\n",
        "print(3*6) # multiply\n",
        "print(2**3) # power\n",
        "print(17/3) # divide\n",
        "print(17//3) # floor divide"
      ],
      "execution_count": 38,
      "outputs": [
        {
          "output_type": "stream",
          "text": [
            "4\n",
            "1\n",
            "18\n",
            "8\n",
            "5\n",
            "5\n"
          ],
          "name": "stdout"
        }
      ]
    },
    {
      "metadata": {
        "id": "8TNy3nSIkYjy",
        "colab_type": "text"
      },
      "cell_type": "markdown",
      "source": [
        "# ตัวแปรและชนิดของข้อมูล\n",
        "ชื่อย่อ\tความหมาย\tตัวอย่าง\n",
        "\n",
        "int               จำนวนเต็ม\t               12345\n",
        "\n",
        "\n",
        "float\t            จำนวนจริง\t                123.45  \n",
        "\n",
        "complex      \tจำนวนเชิงซ้อน\t     123+45j\n",
        "\n",
        "bool\t         บูล\t                       True\n",
        "\n",
        "str         \tสายอักขระ\t              '12345'\n",
        "\n",
        "list\t         ลิสต์\t                        [1,2,3,4,5]\n",
        "\n",
        "tuple\t       ทูเพิล                     \t(1,2,3,4,5)\n",
        "\n",
        "set\t           เซ็ต                        \t{1,2,3,4,5}\n",
        "\n",
        "dict\t         ดิกชันนารี\t               {'ก':1,'ข':2,'ค':3,'ง':4,'จ':5}\n",
        "\n",
        "range\t       เรนจ์                        range(1,6)"
      ]
    },
    {
      "metadata": {
        "id": "09K_WJAilb7E",
        "colab_type": "code",
        "colab": {}
      },
      "cell_type": "code",
      "source": [
        "range(1,6)"
      ],
      "execution_count": 0,
      "outputs": []
    },
    {
      "metadata": {
        "id": "S8ld6xcem09m",
        "colab_type": "text"
      },
      "cell_type": "markdown",
      "source": [
        "จำนวนจริงในที่นี้เป็นจำนวนที่อยู่ในรูปทศนิยมแบบจุดลอย (floating point)"
      ]
    },
    {
      "metadata": {
        "id": "PjeWgXoUm4kW",
        "colab_type": "code",
        "colab": {}
      },
      "cell_type": "code",
      "source": [
        "a= 3.11e-8\n",
        "b= 1.293e2\n",
        "print(a,b)"
      ],
      "execution_count": 0,
      "outputs": []
    },
    {
      "metadata": {
        "id": "JhH5MToGn3de",
        "colab_type": "text"
      },
      "cell_type": "markdown",
      "source": [
        " a ถูกป้อนค่าให้เท่ากับ 129.3 ซึ่งเป็นการป้อนค่าโดยตรง  b จะได้ค่าเป็นเท่ากับที่ a มีอยู่ในตอนนั้น คือเป็น 129.3\n",
        "\n",
        "การเขียนแบบนี้ต่างจากการเขียนสมการทางคณิตศาสตร์ ต้องพยายามไม่สับสน\n",
        "\n",
        "ความหมายของ b = a นั้นไม่ได้หมายถึงสมการที่บอกว่า b มีค่าเท่ากับ a แต่หมายความว่า b จะถูกเปลี่ยนค่าให้เท่ากับ a\n"
      ]
    },
    {
      "metadata": {
        "id": "WNMMijP0oP4-",
        "colab_type": "code",
        "colab": {}
      },
      "cell_type": "code",
      "source": [
        "a = 129.3  # เปลี่ยนเป็น 129.3=a ไม่ได้\n",
        "\n",
        "b = a      #เปลี่ยนเป็น a=b ไม่ได้ นั่นเพราะเราไม่สามารถนำค่าของตัวแปรมาป้อนให้กับตัวเลขได้\n",
        "\n",
        "print(b)"
      ],
      "execution_count": 0,
      "outputs": []
    },
    {
      "metadata": {
        "id": "Sda9vzcepjFS",
        "colab_type": "text"
      },
      "cell_type": "markdown",
      "source": [
        "นอกจากนี้ในภาษาไพธอนสามารถกำหนดค่าของตัวแปรได้ทีละมากกว่าหนึ่งตัวภายในครั้งเดียว"
      ]
    },
    {
      "metadata": {
        "id": "ov1-6bRQpl_s",
        "colab_type": "code",
        "colab": {}
      },
      "cell_type": "code",
      "source": [
        "a,b,c = 158,162,165\n",
        "\n",
        "print( c,b,a)"
      ],
      "execution_count": 0,
      "outputs": []
    },
    {
      "metadata": {
        "id": "DhsLj3Drq99z",
        "colab_type": "code",
        "colab": {}
      },
      "cell_type": "code",
      "source": [
        "#การลบตัวแปร\n",
        "a,b = 100,45\n",
        "del a\n",
        "\n",
        "print(b,a)\n"
      ],
      "execution_count": 0,
      "outputs": []
    },
    {
      "metadata": {
        "id": "OxV4bSturSWs",
        "colab_type": "code",
        "colab": {}
      },
      "cell_type": "code",
      "source": [
        "#การหาชนิดของข้อมูล\n",
        "type(b)\n"
      ],
      "execution_count": 0,
      "outputs": []
    },
    {
      "metadata": {
        "id": "d9ybTwgmsNlW",
        "colab_type": "code",
        "colab": {
          "base_uri": "https://localhost:8080/",
          "height": 33
        },
        "outputId": "bc754e6f-585f-4b45-e488-75b7309bb8e0"
      },
      "cell_type": "code",
      "source": [
        "#ข้อมูลชนิดบูลสามารถแปลงเป็นตัวเลขได้ \n",
        "a = int(True) \n",
        "b= int(False) \n",
        "\n",
        "print(a,b)"
      ],
      "execution_count": 27,
      "outputs": [
        {
          "output_type": "stream",
          "text": [
            "(1, 0)\n"
          ],
          "name": "stdout"
        }
      ]
    },
    {
      "metadata": {
        "id": "pcCQJC4Ytxyk",
        "colab_type": "text"
      },
      "cell_type": "markdown",
      "source": [
        "# การคำนวณ\n",
        "\n",
        "x + y หมายถึง x บวก y\n",
        "\n",
        "x - y หมายถึง x ลบ y\n",
        "\n",
        "x * y หมายถึง x คูณ y\n",
        "\n",
        "x / y หมายถึง x หาร y\n",
        "\n",
        "x // y หมายถึง x หาร y โดยปัดเศษทิ้ง\n",
        "\n",
        "x % y หมายถึง x หาร y เอาเศษ\n",
        "\n",
        "x ** y หมายถึง x ยกกำลัง y\n",
        "\n",
        "นิพจน์บางชนิดอาจเขียนในรูปแบบฟังก์ชัน\n",
        "pow(x,y) หมายถึง x ยกกำลัง y\n",
        "abs(x) หมายถึง ค่าสัมบูรณ์ของ x\n",
        "\n",
        "x += a หมายถึง x = x+a\n",
        "\n",
        "x -= a หมายถึง x = x-a\n",
        "\n",
        "\n",
        "\n"
      ]
    },
    {
      "metadata": {
        "id": "u8zDg7lYvxYd",
        "colab_type": "code",
        "colab": {}
      },
      "cell_type": "code",
      "source": [
        " True - True \n",
        " False*100 \n",
        "True + 1.5\n",
        "\n",
        " 'Hi'*7 "
      ],
      "execution_count": 0,
      "outputs": []
    },
    {
      "metadata": {
        "id": "MFeh8-jUw2I1",
        "colab_type": "text"
      },
      "cell_type": "markdown",
      "source": [
        "## if...else\n",
        "if เงื่อนไข:\n",
        "\n",
        "    คำสั่งที่จะให้ทำเมื่อเงื่อนไขเป็นจริง\n",
        "    \n",
        "else เงื่อนไข:\n",
        "\n",
        "    คำสั่งที่จะให้ทำเมื่อเงื่อนไขเป็นเท็จ"
      ]
    },
    {
      "metadata": {
        "id": "GV1Sncxky_dz",
        "colab_type": "code",
        "colab": {}
      },
      "cell_type": "code",
      "source": [
        "x = int(input('7*2 เท่ากับเท่าไหร่? : '))\n",
        "if x==14:\n",
        "    print('ถูกต้อง')\n",
        "else:\n",
        "    print('คำตอบผิด')"
      ],
      "execution_count": 0,
      "outputs": []
    },
    {
      "metadata": {
        "id": "AZcspY7FzV0j",
        "colab_type": "code",
        "colab": {}
      },
      "cell_type": "code",
      "source": [
        "n=int(input())\n",
        "if n % 2 == 0:\n",
        "    print(\"n is even number\")\n",
        "else:\n",
        "    print(\"n is odd number\")"
      ],
      "execution_count": 0,
      "outputs": []
    },
    {
      "metadata": {
        "id": "v1HY6PzYz8Su",
        "colab_type": "code",
        "colab": {}
      },
      "cell_type": "code",
      "source": [
        "x = int(input('x = '))\n",
        "if x <= 0:\n",
        "    print(\"x is Zero oder negativ\")\n",
        "elif x < 1000:\n",
        "    print(\"x is less than 1000\")\n",
        "elif x < 1000000:\n",
        "    print(\"x is less than 1000000\")\n",
        "else:\n",
        "    print(\"x is more than 1000000\")"
      ],
      "execution_count": 0,
      "outputs": []
    },
    {
      "metadata": {
        "id": "BSFTzzGextOw",
        "colab_type": "text"
      },
      "cell_type": "markdown",
      "source": [
        "# Python has two primitive loop commands: \n",
        "1.\twhile loops \n",
        "2.  for loops\n"
      ]
    },
    {
      "metadata": {
        "id": "iWr6jvOU05O0",
        "colab_type": "code",
        "colab": {}
      },
      "cell_type": "code",
      "source": [
        "# while loops\n",
        "x = 0\n",
        "while x < 10:\n",
        "    print(x)\n",
        "    x += 1"
      ],
      "execution_count": 0,
      "outputs": []
    },
    {
      "metadata": {
        "id": "0yF-IEdY81j8",
        "colab_type": "text"
      },
      "cell_type": "markdown",
      "source": [
        "บางครั้งในการทำซ้ำอาจไม่จำเป็นต้องทำไปจนกว่าเงื่อนไขหลัง while จะเป็นเท็จจึงออก แต่อาจจะตั้งเงื่อนไขเพิ่มเติมบางอย่างที่ทำให้สิ้นสุดการทำซ้ำลงทันที ซึ่งทำได้โดยใช้คำสั่ง break"
      ]
    },
    {
      "metadata": {
        "id": "EuscH4Pu1Q9A",
        "colab_type": "code",
        "colab": {}
      },
      "cell_type": "code",
      "source": [
        "s0='Medical!'\n",
        "s1=''\n",
        "i=0\n",
        "while i<len(s0):\n",
        "    s1+=s0[i]\n",
        "    if s0[i]==\"i\":break\n",
        "    i+=1\n",
        "print(s1)\n",
        "print(len(s0))"
      ],
      "execution_count": 0,
      "outputs": []
    },
    {
      "metadata": {
        "id": "jJreXsab49Mc",
        "colab_type": "code",
        "colab": {}
      },
      "cell_type": "code",
      "source": [
        "khamtop = input('714235/133= ')\n",
        "c=int (714235/133)\n",
        "\n",
        "okat = 3\n",
        "while(khamtop!=c):\n",
        "    print('False')\n",
        "    okat -= 1\n",
        "    if(okat==0):\n",
        "        print('Game Over!!!!','Answer:',c)\n",
        "        break\n",
        "    print('your Time:',okat,)\n",
        "    khamtop = input('Again: ')\n",
        "else: print('Correct!!!!!!!')"
      ],
      "execution_count": 0,
      "outputs": []
    },
    {
      "metadata": {
        "id": "RMmORoo-9KCF",
        "colab_type": "text"
      },
      "cell_type": "markdown",
      "source": [
        "for loops  ใช้สำหรับการวนซ้ำตามลำดับเหมือนกับ iterator method แต่ลดความซับซ้อนในการเขียนลง"
      ]
    },
    {
      "metadata": {
        "id": "zKgY_H3JBMSQ",
        "colab_type": "code",
        "colab": {}
      },
      "cell_type": "code",
      "source": [
        "for u, v in ((0,1), (1,2), (2,0)):\n",
        "  print(\"u={}, v={}\".format(u, v))\n"
      ],
      "execution_count": 0,
      "outputs": []
    },
    {
      "metadata": {
        "id": "0dSq8Mud4GPo",
        "colab_type": "code",
        "colab": {}
      },
      "cell_type": "code",
      "source": [
        "fruits = [\"apple\", \"banana\", \"cherry\"]\n",
        "for x in fruits:\n",
        "  if x == \"banana\":  \n",
        "    break                 #run until x = banana then stop\n",
        "  print(x)\n",
        "\n",
        "fruits = [\"apple\", \"banana\", \"cherry\"]\n",
        "\n",
        "for x in fruits:\n",
        "  if x == \"banana\":\n",
        "    continue              #run until x = Banana then continue to the next place\n",
        "  print(x) "
      ],
      "execution_count": 0,
      "outputs": []
    },
    {
      "metadata": {
        "id": "pmFOmZfHDEW8",
        "colab_type": "code",
        "colab": {}
      },
      "cell_type": "code",
      "source": [
        "for letter in 'Python':\n",
        "    if letter == 'h':\n",
        "        pass\n",
        "        print('This is pass block')\n",
        "    print('Current Letter :', letter)\n",
        "print(\"Good bye!\")"
      ],
      "execution_count": 0,
      "outputs": []
    },
    {
      "metadata": {
        "id": "WBEmRMULDWY0",
        "colab_type": "text"
      },
      "cell_type": "markdown",
      "source": [
        "#ข้อมูลชนิดลำดับ\n",
        "ข้อมูลลักษณะนั้นมีอยู่หลายชนิดได้แก่ ลิสต์ (list), ทูเพิล (tuple), ดิกชันนารี (dict), เซ็ต (set), เรนจ์ (range) เป็นต้น\n",
        "\n",
        "**Tuple **\n",
        "\n",
        "คือรายการข้อมูลซึ่งโดยทั่วไปแล้วมีลักษณะเหมือนกับลิสต์ แต่ข้อแตกต่างคือไม่สามารถแก้ไขเปลี่ยนแปลงสมาชิกภายในได้หลังจากที่ถูกสร้างขึ้นมาแล้ว หากอยากแก้ไขมีแต่ต้องสร้างทูเพิลตัวใหม่ขึ้นมาทับ อย่างไรก็ตามโดยทั่วไปทูเพิลมีข้อดีกว่าลิสต์คือทำงานได้เร็วกว่า"
      ]
    },
    {
      "metadata": {
        "id": "VOzyZBHBD9ba",
        "colab_type": "code",
        "colab": {
          "base_uri": "https://localhost:8080/",
          "height": 33
        },
        "outputId": "40adf54a-647a-4497-8044-f2643a319d8d"
      },
      "cell_type": "code",
      "source": [
        "thistuple = (\"apple\", \"banana\", \"cherry\")\n",
        "print(thistuple[1])"
      ],
      "execution_count": 60,
      "outputs": [
        {
          "output_type": "stream",
          "text": [
            "banana\n"
          ],
          "name": "stdout"
        }
      ]
    },
    {
      "metadata": {
        "id": "NvWW-1qCEUAm",
        "colab_type": "code",
        "colab": {}
      },
      "cell_type": "code",
      "source": [
        "p0=(1,2,3 )    #x,y,z coordinates\n",
        "p1=p0        #p1_x=p0_x;p1_y=p0_y;p1_z=p0_z\n",
        "print(p1)\n",
        "\n",
        "empty=()     # the empty tuple\n",
        "\n",
        "p = (1,2,3)\n",
        "(a,b,c) = p\n",
        "print(b)\n",
        "\n",
        "s=3,+4    \n",
        "print(s)\n",
        "\n",
        "h=3*(6,)  \n",
        "g=(6,)*3  \n",
        "print(g,h)\n",
        "\n",
        "len((p))  # laeng of p\n",
        "\n",
        "\n",
        "# thistuple = (\"apple\", \"banana\", \"cherry\")  #but mit Tupel(\"apple\", \"banana\", \"cherry\") is ERROR\n",
        "# thistuple[1] = \"blackcurrant\"\n",
        "\n",
        "# # the value is still the same:\n",
        "# print(thistuple)"
      ],
      "execution_count": 0,
      "outputs": []
    },
    {
      "metadata": {
        "id": "0yTKdBt2FHh4",
        "colab_type": "text"
      },
      "cell_type": "markdown",
      "source": [
        "เปลี่ยนจากทูเพิลเป็นลิสต์"
      ]
    },
    {
      "metadata": {
        "id": "8T_UoGfSFTvM",
        "colab_type": "code",
        "colab": {}
      },
      "cell_type": "code",
      "source": [
        "list(thistuple)\n",
        "\n",
        "thistuple[1] = \"blackcurrant\"\n",
        "\n",
        "# the value is still the same:\n",
        "print(thistuple)\n"
      ],
      "execution_count": 0,
      "outputs": []
    },
    {
      "metadata": {
        "id": "QyIoaWoAFrYZ",
        "colab_type": "text"
      },
      "cell_type": "markdown",
      "source": [
        "**list**\n",
        "\n",
        "คือรายการของข้อมูลซึ่งประกอบไปด้วยข้อมูลหลายตัวมาวางเรียงต่อกันโดยมีลำดับที่แน่นอน ข้อมูลที่เก็บอยู่ในลิสต์จะเป็นชนิดใดก็ได้ และอาจเป็นหลายชนิดปนกันก็ได้\n"
      ]
    },
    {
      "metadata": {
        "id": "z5_7eGA3xtPi",
        "colab_type": "code",
        "colab": {}
      },
      "cell_type": "code",
      "source": [
        "thislist = [\"apple\", \"banana\", \"cherry\"]\n",
        "thislist[1] = \"blackcurrant\"\n",
        "print(thislist)\n"
      ],
      "execution_count": 0,
      "outputs": []
    },
    {
      "metadata": {
        "id": "1a7iJGg8xtP5",
        "colab_type": "code",
        "colab": {}
      },
      "cell_type": "code",
      "source": [
        "doppelt = []\n",
        "for i in range(10):\n",
        "    doppelt.append(i)\n",
        "print (\"\\ n\" .join ([\"Give me a {}!\" .format (c) for c in \"HELLO\"]))\n"
      ],
      "execution_count": 0,
      "outputs": []
    },
    {
      "metadata": {
        "id": "VHQXNEmtxtPl",
        "colab_type": "text"
      },
      "cell_type": "markdown",
      "source": [
        "**Add Items:**"
      ]
    },
    {
      "metadata": {
        "id": "MmhLL9lextPm",
        "colab_type": "code",
        "colab": {}
      },
      "cell_type": "code",
      "source": [
        "thislist = [\"apple\", \"banana\", \"cherry\"]\n",
        "thislist.append(\"orange\")\n",
        "print(thislist)\n"
      ],
      "execution_count": 0,
      "outputs": []
    },
    {
      "metadata": {
        "id": "4KPJzNeHxtPs",
        "colab_type": "code",
        "colab": {}
      },
      "cell_type": "code",
      "source": [
        "#To add an item at the specified index\n",
        "thislist = [\"apple\", \"banana\", \"cherry\"]\n",
        "thislist.insert(1, \"orange\")\n",
        "print(thislist)\n"
      ],
      "execution_count": 0,
      "outputs": []
    },
    {
      "metadata": {
        "id": "LBhqV5pyxtPv",
        "colab_type": "text"
      },
      "cell_type": "markdown",
      "source": [
        "**Remove Item:**"
      ]
    },
    {
      "metadata": {
        "id": "GBJu2By3xtPw",
        "colab_type": "code",
        "colab": {}
      },
      "cell_type": "code",
      "source": [
        "thislist = [\"apple\", \"banana\", \"cherry\"]\n",
        "thislist.remove(\"banana\")\n",
        "print(thislist)\n"
      ],
      "execution_count": 0,
      "outputs": []
    },
    {
      "metadata": {
        "id": "45waRFQgxtPz",
        "colab_type": "code",
        "colab": {}
      },
      "cell_type": "code",
      "source": [
        "thislist = [\"apple\", \"banana\", \"cherry\"]\n",
        "del thislist[1]      #Error :  del thislist\n",
        "print(thislist)\n"
      ],
      "execution_count": 0,
      "outputs": []
    },
    {
      "metadata": {
        "id": "-7kugsXbxtP8",
        "colab_type": "text"
      },
      "cell_type": "markdown",
      "source": [
        "# Python Functions\n",
        "ฟังก์ชันคือชุดของคำสั่งที่ทำงานเฉพาะ ที่เราสามารถส่งผ่านข้อมูลที่เรียกว่าพารามิเตอร์เข้าไปในฟังก์ชันฟังก์ชันสามารถส่งคืนข้อมูลได้\n",
        "\n",
        " def f(x): # นิยามฟังก์ชัน f ที่มีพารามิเตอร์เป็น x\n",
        " \n",
        "    return x**3+3*x**2+3*x+1 # ค่าคืนกลับของฟังก์ชัน"
      ]
    },
    {
      "metadata": {
        "id": "3wTq8g0XxtP9",
        "colab_type": "code",
        "colab": {}
      },
      "cell_type": "code",
      "source": [
        "def my_function():\n",
        "  print(\"Hello from a function\")\n"
      ],
      "execution_count": 0,
      "outputs": []
    },
    {
      "metadata": {
        "id": "L-oOcVGHxtP_",
        "colab_type": "code",
        "colab": {}
      },
      "cell_type": "code",
      "source": [
        "def my_function(x):\n",
        "  return 5 * x\n",
        "print(my_function(3))  #x is 3,then 5*x=15\n",
        "print(my_function(5))\n",
        "print(my_function(9))\n"
      ],
      "execution_count": 0,
      "outputs": []
    },
    {
      "metadata": {
        "id": "MDnP4-OfxtQC",
        "colab_type": "code",
        "colab": {
          "base_uri": "https://localhost:8080/",
          "height": 100
        },
        "outputId": "4905400f-b129-4fbc-9aa6-681ddfdc83fc"
      },
      "cell_type": "code",
      "source": [
        "def my_function(fname):\n",
        "  print(fname + \" Refsnes\")\n",
        "\n",
        "my_function(\"Emil\")\n",
        "my_function(\"Tobias\")\n",
        "my_function(\"Linus\")\n",
        " #my_function is function of name, (\"\") is variable that occupies the function\n",
        "    \n",
        "def my_function(country = \"Norway\"):\n",
        "  print(\"I am from \" + country)\n",
        "my_function()\n",
        "my_function(\"Thailand\")"
      ],
      "execution_count": 72,
      "outputs": [
        {
          "output_type": "stream",
          "text": [
            "Emil Refsnes\n",
            "Tobias Refsnes\n",
            "Linus Refsnes\n",
            "I am from Norway\n",
            "I am from Thailand\n"
          ],
          "name": "stdout"
        }
      ]
    },
    {
      "metadata": {
        "id": "d3kI2epzKlag",
        "colab_type": "code",
        "colab": {
          "base_uri": "https://localhost:8080/",
          "height": 33
        },
        "outputId": "3b79aca8-3236-443b-cd01-e77d8188e244"
      },
      "cell_type": "code",
      "source": [
        "def f(x,y,z,t):\n",
        "    print((x**2+y**2+z**2+t**2)**0.5)\n",
        "\n",
        "xyz = [3,4,12]\n",
        "t = 20\n",
        "f(xyz[0],xyz[1],xyz[2],t)"
      ],
      "execution_count": 75,
      "outputs": [
        {
          "output_type": "stream",
          "text": [
            "23.8537208838\n"
          ],
          "name": "stdout"
        }
      ]
    },
    {
      "metadata": {
        "id": "mUhlq70mLW4h",
        "colab_type": "code",
        "colab": {}
      },
      "cell_type": "code",
      "source": [
        "def raidai(a=0,b=0,c=0,d=0):\n",
        "    print(a*200+b*300+c*400+d*500)\n",
        "\n",
        "raidai(b=15,c=20) # 15*300 + 20*400\n",
        "raidai(15,20,10) # a b and c \n",
        "raidai(15,20,d=10) # a, b and d \n"
      ],
      "execution_count": 0,
      "outputs": []
    },
    {
      "metadata": {
        "id": "lZ9w4ONUMs6i",
        "colab_type": "code",
        "colab": {
          "base_uri": "https://localhost:8080/",
          "height": 33
        },
        "outputId": "81a31bf3-c546-4ea6-dd87-9e2cca7b9b47"
      },
      "cell_type": "code",
      "source": [
        "# สร้างฟังก์ชัน fac(x) = x! = 1×2×3×...×x\n",
        "\n",
        "def fac(x):\n",
        "    f = 1 \n",
        "    for i in range(2,x+1): \n",
        "        f = f*i \n",
        "    return f \n",
        "\n",
        "print(fac(6))"
      ],
      "execution_count": 77,
      "outputs": [
        {
          "output_type": "stream",
          "text": [
            "720\n"
          ],
          "name": "stdout"
        }
      ]
    },
    {
      "metadata": {
        "id": "4Qf0_jaxxtQG",
        "colab_type": "text"
      },
      "cell_type": "markdown",
      "source": [
        "# Python Lambda\n",
        "ฟังก์ชันแลมบ์ดาเป็นฟังก์ชันที่ไม่ระบุตัวตนขนาดเล็ก  ฟังก์ชัน lambda สามารถใช้arguments กี่อันก็ได้ แต่สามารถมีผลแสดงออกได้เพียงอันเดียว\n",
        "\n",
        "\n"
      ]
    },
    {
      "metadata": {
        "id": "43FeEgDGxtQH",
        "colab_type": "code",
        "colab": {}
      },
      "cell_type": "code",
      "source": [
        "x = lambda a : a + 10\n",
        "print(x(5))   #x(5)..... a=5 dann a+10=15\n",
        "\n",
        "\n",
        "x = lambda a, b, c : a + b + c\n",
        "print(x(5, 6, 2))       #a=5,b=6,c=2 --> x= a+b+c = 13\n",
        "\n",
        "def myfunc(n):\n",
        "  return lambda a : a * n  \n",
        "\n",
        "#n=2 and 3 a=4 and 11\n",
        "\n",
        "mydoubler = myfunc(2)\n",
        "mytripler = myfunc(3)\n",
        "\n",
        "print(mydoubler(4)) \n",
        "print(mytripler(11))\n"
      ],
      "execution_count": 0,
      "outputs": []
    },
    {
      "metadata": {
        "id": "IsLyDwKXxtQL",
        "colab_type": "text"
      },
      "cell_type": "markdown",
      "source": [
        "# Class\n",
        "\n",
        "การสร้างคลาสทำได้โดยใช้คำสั่ง class แล้วตามด้วยชื่อคลาสที่ต้องการตั้ง ตามด้วยโคลอน : จากนั้นก็ตามด้วยบรรทัดที่ร่นเข้าซึ่งในนั้นใส่เนื้อหาโครงสร้างต่างๆของคลาส\n",
        "\n",
        "class ชื่อคลาส:\n",
        "\n",
        "    เนื้อหาของคลาส\n",
        "    \n",
        "ในการสร้างคลาส คลาสที่สร้างขึ้นอาจมีความซับซ้อน ใส่แอตทริบิวต์และเมธอดไปมากมายอย่างละเอียด แต่ในขณะเดียวกันก็สามารถสร้างคลาสที่โล่งๆไม่มีอะไรเลยก็ได้\n",
        "\n",
        "โดยทั่วไปแล้วพารามิเตอร์ตัวแรกที่เอาไว้ใช้แทนตัวออบเจ็กต์เองนี้จะถูกเขียนแทนด้วยคำว่า self\n",
        "\n",
        "อย่างไรก็ตามจริงๆแล้วนี่เป็นเพียงธรรมเนียมปฏิบัติที่ยึดถือกันมาเท่านั้น ถึงจะใช้คำอื่นแทน self ก็ให้ผลเหมือนกัน "
      ]
    },
    {
      "metadata": {
        "id": "gplV4HbdxtQM",
        "colab_type": "code",
        "colab": {}
      },
      "cell_type": "code",
      "source": [
        "class Person:\n",
        "  def __init__(self, name, age):\n",
        "    self.name = name\n",
        "    self.age = age\n",
        "\n",
        "  def myfunc(self):\n",
        "    print(\"Hello my name is \" + self.name) \n",
        "\n",
        "p1 = Person(\"John\", 36)\n",
        "p1.myfunc()\n"
      ],
      "execution_count": 0,
      "outputs": []
    },
    {
      "metadata": {
        "id": "RU29RsXPRzg9",
        "colab_type": "text"
      },
      "cell_type": "markdown",
      "source": [
        "# Numpy \n",
        "\n",
        "numpy เป็นมอดูลที่ทำให้เราสามารถใช้ออบเจ็กต์ชนิดที่เรียกว่า ndarray ซึ่งหมายถึงอาเรย์หลายมิติ\n",
        "โดยจะใช้ตัวย่อเป็น np  เวลาที่เรียกชื่อฟังก์ชันต่างๆใน numpy ก็จะเรียกโดยขึ้นต้นด้วย np.\n",
        "\n",
        "มีอยู่หลายวิธีในการสร้างอาเรย์ แต่วิธีที่พื้นฐานที่สุดคือสร้างขึ้นมาจากลิสต์, ทูเพิล หรือเรนจ์ โดยใช้ np.array(ลิสต์)"
      ]
    },
    {
      "metadata": {
        "id": "-cCIuvw4SM_Y",
        "colab_type": "code",
        "colab": {
          "base_uri": "https://localhost:8080/",
          "height": 67
        },
        "outputId": "5fc7995c-5e57-432a-d1e7-7a0eaab4205f"
      },
      "cell_type": "code",
      "source": [
        "import numpy as np\n",
        "aray = np.array(range(3,7))\n",
        "araya = np.array([[1,2],[3,4]])\n",
        "print(aray)\n",
        "print(araya)"
      ],
      "execution_count": 79,
      "outputs": [
        {
          "output_type": "stream",
          "text": [
            "[3 4 5 6]\n",
            "[[1 2]\n",
            " [3 4]]\n"
          ],
          "name": "stdout"
        }
      ]
    }
  ]
}