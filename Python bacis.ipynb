{
 "cells": [
  {
   "cell_type": "markdown",
   "metadata": {
    "collapsed": false
   },
   "source": [
    "# if...else\n",
    "\n",
    "The if command is not just useful for executing a command sequence,if a condition is met. Alternatively, you can use a command sequence,if the condition is **true** and another if she is **wrong**. ( behind the if and else is a colon.)\n",
    "\n"
   ]
  },
  {
   "cell_type": "code",
   "execution_count": 2,
   "metadata": {
    "collapsed": false
   },
   "outputs": [
    {
     "name": "stdout",
     "output_type": "stream",
     "text": [
      "n is even number\n"
     ]
    }
   ],
   "source": [
    "n=4\n",
    "if n % 2 == 0:\n",
    "    print(\"n is even number\")\n",
    "else:\n",
    "    print(\"n is odd number\")"
   ]
  },
  {
   "cell_type": "markdown",
   "metadata": {},
   "source": [
    "Of course, ifs and elses can also be nested. You only have to Consistently comply with indentation."
   ]
  },
  {
   "cell_type": "code",
   "execution_count": 8,
   "metadata": {
    "collapsed": false
   },
   "outputs": [
    {
     "name": "stdout",
     "output_type": "stream",
     "text": [
      "x is less than 1000\n"
     ]
    }
   ],
   "source": [
    "x=100\n",
    "if x <= 0:\n",
    "    print(\"x is Zero oder negativ\")\n",
    "else:\n",
    "    if x < 1000:\n",
    "        print(\"x is less than 1000\")\n",
    "    else:\n",
    "        if x < 1000000:\n",
    "            print(\"x is less than 1000000\")\n",
    "        else:\n",
    "            print(\"x is more than 1000000\")\n"
   ]
  },
  {
   "cell_type": "code",
   "execution_count": 12,
   "metadata": {
    "collapsed": false
   },
   "outputs": [
    {
     "name": "stdout",
     "output_type": "stream",
     "text": [
      "x is less than 1000\n"
     ]
    }
   ],
   "source": [
    "if x <= 0:\n",
    "    print(\"x is Zero oder negativ\")\n",
    "elif x < 1000:\n",
    "    print(\"x is less than 1000\")\n",
    "elif x < 1000000:\n",
    "    print(\"x is less than 1000000\")\n",
    "else:\n",
    "    print(\"x is more than 1000000\")\n"
   ]
  },
  {
   "cell_type": "markdown",
   "metadata": {},
   "source": [
    "** Python has two primitive loop commands: **\n",
    "1.\twhile loops \n",
    "2.  for loops\n"
   ]
  },
  {
   "cell_type": "markdown",
   "metadata": {},
   "source": [
    "# while loops\n",
    "\n",
    " There may be a situation when you need to execute a block of code several number of times."
   ]
  },
  {
   "cell_type": "code",
   "execution_count": 13,
   "metadata": {
    "collapsed": false
   },
   "outputs": [
    {
     "name": "stdout",
     "output_type": "stream",
     "text": [
      "1\n",
      "2\n",
      "3\n",
      "4\n",
      "5\n"
     ]
    }
   ],
   "source": [
    "i=1\n",
    "while i <= 5:\n",
    "      print(i)\n",
    "      i=i+1"
   ]
  },
  {
   "cell_type": "markdown",
   "metadata": {},
   "source": [
    "if a loop  must be prematurely aborted. In Python it serves **the break** command. It ends the innermost surrounding loop:"
   ]
  },
  {
   "cell_type": "code",
   "execution_count": 14,
   "metadata": {
    "collapsed": false
   },
   "outputs": [
    {
     "name": "stdout",
     "output_type": "stream",
     "text": [
      "Medi\n",
      "8\n"
     ]
    }
   ],
   "source": [
    "s0='Medical!'\n",
    "s1=''\n",
    "i=0\n",
    "while i<len(s0):\n",
    "    s1+=s0[i]\n",
    "    if s0[i]==\"i\":break\n",
    "    i+=1\n",
    "print(s1)\n",
    "print(len(s0))"
   ]
  },
  {
   "cell_type": "code",
   "execution_count": 15,
   "metadata": {
    "collapsed": false
   },
   "outputs": [
    {
     "name": "stdout",
     "output_type": "stream",
     "text": [
      "NON\n"
     ]
    }
   ],
   "source": [
    "s=15\n",
    "e=17\n",
    "while s<=e:\n",
    "    if s%7==0:\n",
    "        print (s)\n",
    "        break\n",
    "    s+=1\n",
    "else:\n",
    "    print(\"NON\")"
   ]
  },
  {
   "cell_type": "markdown",
   "metadata": {},
   "source": [
    "You can read data from standard input by importing the sys module:"
   ]
  },
  {
   "cell_type": "code",
   "execution_count": 16,
   "metadata": {
    "collapsed": false
   },
   "outputs": [
    {
     "data": {
      "text/plain": [
       "'xyz 123'"
      ]
     },
     "execution_count": 16,
     "metadata": {},
     "output_type": "execute_result"
    }
   ],
   "source": [
    "import sys     #Stand reading\n",
    "s=sys.stdin.readline()    # bring the data object to get the next targets - return result\n",
    "\"123\".isdigit()\n",
    "\"abc\".isdigit()\n",
    "\"abc\\n\".strip()      #To read spellings\n",
    "\" \\t \\n xyz 123 \\f\\r \".strip()"
   ]
  },
  {
   "cell_type": "code",
   "execution_count": 17,
   "metadata": {
    "collapsed": false
   },
   "outputs": [
    {
     "name": "stdout",
     "output_type": "stream",
     "text": [
      "{1, 2, 3, 5}\n"
     ]
    }
   ],
   "source": [
    "# To read in a number from sys\n",
    "\n",
    "number = ({1,2,5,3})\n",
    "while number is None:\n",
    "    line=sys.stdin.readline()\n",
    "    if line =='':\n",
    "        print('END')\n",
    "        break\n",
    "    line=line.strip()\n",
    "    if not line.isdigit():\n",
    "        print(\"please give a Number\")\n",
    "        continue\n",
    "        number = int(line)\n",
    "else:\n",
    "    print (number)"
   ]
  },
  {
   "cell_type": "markdown",
   "metadata": {},
   "source": [
    "# for loops \n",
    "A for loop is used for iterating over a sequence.This is less like the for keyword in other programming language, and works more like an iterator method as found in other object-orientated programming languages."
   ]
  },
  {
   "cell_type": "code",
   "execution_count": 40,
   "metadata": {
    "collapsed": false
   },
   "outputs": [
    {
     "name": "stdout",
     "output_type": "stream",
     "text": [
      "apple\n",
      "apple\n",
      "cherry\n"
     ]
    }
   ],
   "source": [
    "fruits = [\"apple\", \"banana\", \"cherry\"]\n",
    "for x in fruits:\n",
    "  if x == \"banana\":  \n",
    "    break                 #run until x = banana then stop\n",
    "  print(x)\n",
    "\n",
    "fruits = [\"apple\", \"banana\", \"cherry\"]\n",
    "\n",
    "for x in fruits:\n",
    "  if x == \"banana\":\n",
    "    continue              #run until x = Banana then continue to the next place\n",
    "  print(x) "
   ]
  },
  {
   "cell_type": "code",
   "execution_count": 3,
   "metadata": {
    "collapsed": false
   },
   "outputs": [
    {
     "name": "stdout",
     "output_type": "stream",
     "text": [
      "10  20  30  \n",
      "\n",
      "40  50  60  \n",
      "\n",
      "70  80  90  \n",
      "\n"
     ]
    }
   ],
   "source": [
    "#Maxtric zu schreiben\n",
    "my_list = [[10, 20, 30], [40, 50, 60], [70, 80, 90]]\n",
    "for row in range(3):    \n",
    "    for col in range(3):\n",
    "        print(my_list[row][col], end='  ')\n",
    "    print('\\n')"
   ]
  },
  {
   "cell_type": "code",
   "execution_count": 4,
   "metadata": {
    "collapsed": false
   },
   "outputs": [
    {
     "name": "stdout",
     "output_type": "stream",
     "text": [
      "Current Letter : P\n",
      "Current Letter : y\n",
      "Current Letter : t\n",
      "This is pass block\n",
      "Current Letter : h\n",
      "Current Letter : o\n",
      "Current Letter : n\n",
      "Good bye!\n"
     ]
    }
   ],
   "source": [
    "for letter in 'Python':\n",
    "    if letter == 'h':\n",
    "        pass\n",
    "        print('This is pass block')\n",
    "    print('Current Letter :', letter)\n",
    "print(\"Good bye!\")"
   ]
  },
  {
   "cell_type": "markdown",
   "metadata": {},
   "source": [
    "# Tuple \n",
    "\n",
    "A tuple is a collection which is ordered and unchangeable, but You can access tuple items by referring to the index number"
   ]
  },
  {
   "cell_type": "code",
   "execution_count": 20,
   "metadata": {
    "collapsed": false
   },
   "outputs": [
    {
     "name": "stdout",
     "output_type": "stream",
     "text": [
      "banana\n"
     ]
    }
   ],
   "source": [
    "thistuple = (\"apple\", \"banana\", \"cherry\")\n",
    "print(thistuple[1])\n"
   ]
  },
  {
   "cell_type": "code",
   "execution_count": 38,
   "metadata": {
    "collapsed": false
   },
   "outputs": [
    {
     "name": "stdout",
     "output_type": "stream",
     "text": [
      "(1, 2, 3)\n",
      "2\n",
      "(3, 4)\n",
      "(6, 6, 6) (6, 6, 6)\n",
      "['apple', 'blackcurrant', 'cherry']\n"
     ]
    }
   ],
   "source": [
    "import numpy\n",
    "p0=1,2,3     #x,y,z coordinates\n",
    "p1=p0        #p1_x=p0_x;p1_y=p0_y;p1_z=p0_z\n",
    "print(p1)\n",
    "\n",
    "empty=()     # the empty tuple\n",
    "\n",
    "p = (1,2,3)\n",
    "(a,b,c) = p\n",
    "print(b)\n",
    "\n",
    "s=3,+4    \n",
    "print(s)\n",
    "\n",
    "h=3*(6,)  \n",
    "g=(6,)*3  \n",
    "print(g,h)\n",
    "\n",
    "len((p))  # laeng of p\n",
    "\n",
    "\n",
    "thistuple = [\"apple\", \"banana\", \"cherry\"]  #but mit Tupel(\"apple\", \"banana\", \"cherry\") is ERROR\n",
    "thistuple[1] = \"blackcurrant\"\n",
    "\n",
    "# the value is still the same:\n",
    "print(thistuple)\n"
   ]
  },
  {
   "cell_type": "markdown",
   "metadata": {},
   "source": [
    "# List \n",
    "\n",
    "**Lists** in Python behave like tuples, with the difference that they are lists can change. you can construct a list by selecting the desired elements and it is separated by commas in square brackets."
   ]
  },
  {
   "cell_type": "code",
   "execution_count": 26,
   "metadata": {
    "collapsed": false
   },
   "outputs": [
    {
     "name": "stdout",
     "output_type": "stream",
     "text": [
      "['apple', 'blackcurrant', 'cherry']\n"
     ]
    }
   ],
   "source": [
    "thislist = [\"apple\", \"banana\", \"cherry\"]\n",
    "thislist[1] = \"blackcurrant\"\n",
    "print(thislist)\n"
   ]
  },
  {
   "cell_type": "markdown",
   "metadata": {},
   "source": [
    "**Add Items:**"
   ]
  },
  {
   "cell_type": "code",
   "execution_count": 27,
   "metadata": {
    "collapsed": false
   },
   "outputs": [
    {
     "name": "stdout",
     "output_type": "stream",
     "text": [
      "['apple', 'banana', 'cherry', 'orange']\n"
     ]
    }
   ],
   "source": [
    "thislist = [\"apple\", \"banana\", \"cherry\"]\n",
    "thislist.append(\"orange\")\n",
    "print(thislist)\n"
   ]
  },
  {
   "cell_type": "code",
   "execution_count": 28,
   "metadata": {
    "collapsed": false
   },
   "outputs": [
    {
     "name": "stdout",
     "output_type": "stream",
     "text": [
      "['apple', 'orange', 'banana', 'cherry']\n"
     ]
    }
   ],
   "source": [
    "#To add an item at the specified index\n",
    "thislist = [\"apple\", \"banana\", \"cherry\"]\n",
    "thislist.insert(1, \"orange\")\n",
    "print(thislist)\n"
   ]
  },
  {
   "cell_type": "markdown",
   "metadata": {},
   "source": [
    "**Remove Item:**"
   ]
  },
  {
   "cell_type": "code",
   "execution_count": 29,
   "metadata": {
    "collapsed": false
   },
   "outputs": [
    {
     "name": "stdout",
     "output_type": "stream",
     "text": [
      "['apple', 'cherry']\n"
     ]
    }
   ],
   "source": [
    "thislist = [\"apple\", \"banana\", \"cherry\"]\n",
    "thislist.remove(\"banana\")\n",
    "print(thislist)\n"
   ]
  },
  {
   "cell_type": "code",
   "execution_count": 30,
   "metadata": {
    "collapsed": false
   },
   "outputs": [
    {
     "name": "stdout",
     "output_type": "stream",
     "text": [
      "['apple', 'cherry']\n"
     ]
    }
   ],
   "source": [
    "thislist = [\"apple\", \"banana\", \"cherry\"]\n",
    "del thislist[1]      #Erro :  del thislist\n",
    "print(thislist)\n"
   ]
  },
  {
   "cell_type": "markdown",
   "metadata": {},
   "source": [
    "Using the **list()** constructor to make a List:"
   ]
  },
  {
   "cell_type": "code",
   "execution_count": 31,
   "metadata": {
    "collapsed": false
   },
   "outputs": [
    {
     "name": "stdout",
     "output_type": "stream",
     "text": [
      "['apple', 'banana', 'cherry']\n"
     ]
    }
   ],
   "source": [
    "thislist = list((\"apple\", \"banana\", \"cherry\")) # note the double round-brackets\n",
    "print(thislist)"
   ]
  },
  {
   "cell_type": "markdown",
   "metadata": {},
   "source": [
    "\n",
    "\n",
    "List Comprehensions: If you want to iterate through the elements of a sequence and construct a new sequence that contains an element for each element of the sequence of origin that is from this results"
   ]
  },
  {
   "cell_type": "code",
   "execution_count": 47,
   "metadata": {
    "collapsed": false
   },
   "outputs": [
    {
     "name": "stdout",
     "output_type": "stream",
     "text": [
      "Give me a H!\\ nGive me a E!\\ nGive me a L!\\ nGive me a L!\\ nGive me a O!\n"
     ]
    }
   ],
   "source": [
    "doppelt = []\n",
    "for i in range(10):\n",
    "    doppelt.append(i)\n",
    "print (\"\\ n\" .join ([\"Give me a {}!\" .format (c) for c in \"HELLO\"]))\n"
   ]
  },
  {
   "cell_type": "markdown",
   "metadata": {},
   "source": [
    "# Python Functions\n",
    "A function is a block of code which only runs when it is called.You can pass data, known as parameters, into a function.A function can return data as a result.\n"
   ]
  },
  {
   "cell_type": "code",
   "execution_count": 36,
   "metadata": {
    "collapsed": true
   },
   "outputs": [],
   "source": [
    "def my_function():\n",
    "  print(\"Hello from a function\")\n"
   ]
  },
  {
   "cell_type": "code",
   "execution_count": 39,
   "metadata": {
    "collapsed": false
   },
   "outputs": [
    {
     "name": "stdout",
     "output_type": "stream",
     "text": [
      "15\n",
      "25\n",
      "45\n"
     ]
    }
   ],
   "source": [
    "def my_function(x):\n",
    "  return 5 * x\n",
    "print(my_function(3))  #x is 3,then 5*x=15\n",
    "print(my_function(5))\n",
    "print(my_function(9))\n"
   ]
  },
  {
   "cell_type": "code",
   "execution_count": 49,
   "metadata": {
    "collapsed": false
   },
   "outputs": [
    {
     "name": "stdout",
     "output_type": "stream",
     "text": [
      "Emil Refsnes\n",
      "Tobias Refsnes\n",
      "Linus Refsnes\n",
      "I am from Norway\n",
      "I am from Thailand\n"
     ]
    }
   ],
   "source": [
    "def my_function(fname):\n",
    "  print(fname + \" Refsnes\")\n",
    "\n",
    "my_function(\"Emil\")\n",
    "my_function(\"Tobias\")\n",
    "my_function(\"Linus\")\n",
    " #my_function is function of name, (\"\") is variable that occupies the function\n",
    "    \n",
    "def my_function(country = \"Norway\"):\n",
    "  print(\"I am from \" + country)\n",
    "my_function()\n",
    "my_function(\"Thailand\")"
   ]
  },
  {
   "cell_type": "markdown",
   "metadata": {},
   "source": [
    "# Python Lambda\n",
    "A lambda function is a small anonymous function.A lambda function can take any number of arguments, but can only have one expression\n"
   ]
  },
  {
   "cell_type": "code",
   "execution_count": 41,
   "metadata": {
    "collapsed": false
   },
   "outputs": [
    {
     "name": "stdout",
     "output_type": "stream",
     "text": [
      "15\n",
      "13\n",
      "8\n",
      "33\n"
     ]
    }
   ],
   "source": [
    "x = lambda a : a + 10\n",
    "print(x(5))   #x(5)..... a=5 dann a+10=15\n",
    "\n",
    "\n",
    "x = lambda a, b, c : a + b + c\n",
    "print(x(5, 6, 2))       #a=5,b=6,c=2 --> x= a+b+c = 13\n",
    "\n",
    "def myfunc(n):\n",
    "  return lambda a : a * n  \n",
    "\n",
    "#n=2 and 3 a=4 and 11\n",
    "\n",
    "mydoubler = myfunc(2)\n",
    "mytripler = myfunc(3)\n",
    "\n",
    "print(mydoubler(4)) \n",
    "print(mytripler(11))\n"
   ]
  },
  {
   "cell_type": "markdown",
   "metadata": {},
   "source": [
    "# Class\n",
    "A class specifies a certain set of attributes and methods, and you can create objects of that class, then using these attributes and methods. The attributes and methods of each object are then basically independent of the attributes and methods of other objects same class.\n",
    "\n",
    "The self parameter is a reference to the class itself, and is used to access variables that belongs to the class.\n"
   ]
  },
  {
   "cell_type": "code",
   "execution_count": 48,
   "metadata": {
    "collapsed": false
   },
   "outputs": [
    {
     "name": "stdout",
     "output_type": "stream",
     "text": [
      "Hello my name is John\n"
     ]
    }
   ],
   "source": [
    "class Person:\n",
    "  def __init__(self, name, age):\n",
    "    self.name = name\n",
    "    self.age = age\n",
    "\n",
    "  def myfunc(self):\n",
    "    print(\"Hello my name is \" + self.name)\n",
    "\n",
    "p1 = Person(\"John\", 36)\n",
    "p1.myfunc()\n"
   ]
  }
 ],
 "metadata": {
  "anaconda-cloud": {},
  "kernelspec": {
   "display_name": "Python [conda root]",
   "language": "python",
   "name": "conda-root-py"
  },
  "language_info": {
   "codemirror_mode": {
    "name": "ipython",
    "version": 3
   },
   "file_extension": ".py",
   "mimetype": "text/x-python",
   "name": "python",
   "nbconvert_exporter": "python",
   "pygments_lexer": "ipython3",
   "version": "3.5.2"
  }
 },
 "nbformat": 4,
 "nbformat_minor": 1
}
